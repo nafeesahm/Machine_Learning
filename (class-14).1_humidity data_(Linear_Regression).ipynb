{
 "cells": [
  {
   "cell_type": "code",
   "execution_count": 1,
   "id": "df99ef14",
   "metadata": {},
   "outputs": [],
   "source": [
    "import pandas as pd"
   ]
  },
  {
   "cell_type": "code",
   "execution_count": 2,
   "id": "b4396766",
   "metadata": {},
   "outputs": [],
   "source": [
    "data= pd.read_csv(\"humidity.csv\")"
   ]
  },
  {
   "cell_type": "code",
   "execution_count": 3,
   "id": "ee7d1cc1",
   "metadata": {},
   "outputs": [
    {
     "data": {
      "text/html": [
       "<div>\n",
       "<style scoped>\n",
       "    .dataframe tbody tr th:only-of-type {\n",
       "        vertical-align: middle;\n",
       "    }\n",
       "\n",
       "    .dataframe tbody tr th {\n",
       "        vertical-align: top;\n",
       "    }\n",
       "\n",
       "    .dataframe thead th {\n",
       "        text-align: right;\n",
       "    }\n",
       "</style>\n",
       "<table border=\"1\" class=\"dataframe\">\n",
       "  <thead>\n",
       "    <tr style=\"text-align: right;\">\n",
       "      <th></th>\n",
       "      <th>sensor_id</th>\n",
       "      <th>lat</th>\n",
       "      <th>lon</th>\n",
       "      <th>pressure</th>\n",
       "      <th>temperature</th>\n",
       "      <th>humidity</th>\n",
       "    </tr>\n",
       "  </thead>\n",
       "  <tbody>\n",
       "    <tr>\n",
       "      <th>0</th>\n",
       "      <td>2266</td>\n",
       "      <td>42.738</td>\n",
       "      <td>23.272</td>\n",
       "      <td>95270.27</td>\n",
       "      <td>23.46</td>\n",
       "      <td>62.48</td>\n",
       "    </tr>\n",
       "    <tr>\n",
       "      <th>1</th>\n",
       "      <td>2292</td>\n",
       "      <td>42.663</td>\n",
       "      <td>23.273</td>\n",
       "      <td>94355.83</td>\n",
       "      <td>23.06</td>\n",
       "      <td>59.46</td>\n",
       "    </tr>\n",
       "    <tr>\n",
       "      <th>2</th>\n",
       "      <td>3096</td>\n",
       "      <td>42.700</td>\n",
       "      <td>23.360</td>\n",
       "      <td>95155.81</td>\n",
       "      <td>26.53</td>\n",
       "      <td>44.38</td>\n",
       "    </tr>\n",
       "    <tr>\n",
       "      <th>3</th>\n",
       "      <td>3428</td>\n",
       "      <td>42.624</td>\n",
       "      <td>23.406</td>\n",
       "      <td>94679.57</td>\n",
       "      <td>28.34</td>\n",
       "      <td>38.28</td>\n",
       "    </tr>\n",
       "    <tr>\n",
       "      <th>4</th>\n",
       "      <td>3472</td>\n",
       "      <td>42.669</td>\n",
       "      <td>23.318</td>\n",
       "      <td>94327.88</td>\n",
       "      <td>26.31</td>\n",
       "      <td>46.37</td>\n",
       "    </tr>\n",
       "    <tr>\n",
       "      <th>...</th>\n",
       "      <td>...</td>\n",
       "      <td>...</td>\n",
       "      <td>...</td>\n",
       "      <td>...</td>\n",
       "      <td>...</td>\n",
       "      <td>...</td>\n",
       "    </tr>\n",
       "    <tr>\n",
       "      <th>701543</th>\n",
       "      <td>3558</td>\n",
       "      <td>42.671</td>\n",
       "      <td>23.364</td>\n",
       "      <td>95562.08</td>\n",
       "      <td>21.99</td>\n",
       "      <td>52.28</td>\n",
       "    </tr>\n",
       "    <tr>\n",
       "      <th>701544</th>\n",
       "      <td>3836</td>\n",
       "      <td>42.702</td>\n",
       "      <td>23.371</td>\n",
       "      <td>96070.06</td>\n",
       "      <td>21.41</td>\n",
       "      <td>56.84</td>\n",
       "    </tr>\n",
       "    <tr>\n",
       "      <th>701545</th>\n",
       "      <td>3296</td>\n",
       "      <td>42.671</td>\n",
       "      <td>23.325</td>\n",
       "      <td>95230.42</td>\n",
       "      <td>22.53</td>\n",
       "      <td>51.72</td>\n",
       "    </tr>\n",
       "    <tr>\n",
       "      <th>701546</th>\n",
       "      <td>2234</td>\n",
       "      <td>42.685</td>\n",
       "      <td>23.356</td>\n",
       "      <td>95653.14</td>\n",
       "      <td>23.01</td>\n",
       "      <td>49.78</td>\n",
       "    </tr>\n",
       "    <tr>\n",
       "      <th>701547</th>\n",
       "      <td>2232</td>\n",
       "      <td>42.685</td>\n",
       "      <td>23.301</td>\n",
       "      <td>95418.48</td>\n",
       "      <td>22.57</td>\n",
       "      <td>51.44</td>\n",
       "    </tr>\n",
       "  </tbody>\n",
       "</table>\n",
       "<p>701548 rows × 6 columns</p>\n",
       "</div>"
      ],
      "text/plain": [
       "        sensor_id     lat     lon  pressure  temperature  humidity\n",
       "0            2266  42.738  23.272  95270.27        23.46     62.48\n",
       "1            2292  42.663  23.273  94355.83        23.06     59.46\n",
       "2            3096  42.700  23.360  95155.81        26.53     44.38\n",
       "3            3428  42.624  23.406  94679.57        28.34     38.28\n",
       "4            3472  42.669  23.318  94327.88        26.31     46.37\n",
       "...           ...     ...     ...       ...          ...       ...\n",
       "701543       3558  42.671  23.364  95562.08        21.99     52.28\n",
       "701544       3836  42.702  23.371  96070.06        21.41     56.84\n",
       "701545       3296  42.671  23.325  95230.42        22.53     51.72\n",
       "701546       2234  42.685  23.356  95653.14        23.01     49.78\n",
       "701547       2232  42.685  23.301  95418.48        22.57     51.44\n",
       "\n",
       "[701548 rows x 6 columns]"
      ]
     },
     "execution_count": 3,
     "metadata": {},
     "output_type": "execute_result"
    }
   ],
   "source": [
    "data"
   ]
  },
  {
   "cell_type": "code",
   "execution_count": 4,
   "id": "225ad4fa",
   "metadata": {},
   "outputs": [],
   "source": [
    "data= data.drop([\"sensor_id\",\"lat\", \"lon\"], axis =1)       # drop sensor_id , latitude, and longitude column"
   ]
  },
  {
   "cell_type": "code",
   "execution_count": 5,
   "id": "587fde3a",
   "metadata": {},
   "outputs": [
    {
     "data": {
      "text/html": [
       "<div>\n",
       "<style scoped>\n",
       "    .dataframe tbody tr th:only-of-type {\n",
       "        vertical-align: middle;\n",
       "    }\n",
       "\n",
       "    .dataframe tbody tr th {\n",
       "        vertical-align: top;\n",
       "    }\n",
       "\n",
       "    .dataframe thead th {\n",
       "        text-align: right;\n",
       "    }\n",
       "</style>\n",
       "<table border=\"1\" class=\"dataframe\">\n",
       "  <thead>\n",
       "    <tr style=\"text-align: right;\">\n",
       "      <th></th>\n",
       "      <th>pressure</th>\n",
       "      <th>temperature</th>\n",
       "      <th>humidity</th>\n",
       "    </tr>\n",
       "  </thead>\n",
       "  <tbody>\n",
       "    <tr>\n",
       "      <th>0</th>\n",
       "      <td>95270.27</td>\n",
       "      <td>23.46</td>\n",
       "      <td>62.48</td>\n",
       "    </tr>\n",
       "    <tr>\n",
       "      <th>1</th>\n",
       "      <td>94355.83</td>\n",
       "      <td>23.06</td>\n",
       "      <td>59.46</td>\n",
       "    </tr>\n",
       "    <tr>\n",
       "      <th>2</th>\n",
       "      <td>95155.81</td>\n",
       "      <td>26.53</td>\n",
       "      <td>44.38</td>\n",
       "    </tr>\n",
       "    <tr>\n",
       "      <th>3</th>\n",
       "      <td>94679.57</td>\n",
       "      <td>28.34</td>\n",
       "      <td>38.28</td>\n",
       "    </tr>\n",
       "    <tr>\n",
       "      <th>4</th>\n",
       "      <td>94327.88</td>\n",
       "      <td>26.31</td>\n",
       "      <td>46.37</td>\n",
       "    </tr>\n",
       "    <tr>\n",
       "      <th>...</th>\n",
       "      <td>...</td>\n",
       "      <td>...</td>\n",
       "      <td>...</td>\n",
       "    </tr>\n",
       "    <tr>\n",
       "      <th>701543</th>\n",
       "      <td>95562.08</td>\n",
       "      <td>21.99</td>\n",
       "      <td>52.28</td>\n",
       "    </tr>\n",
       "    <tr>\n",
       "      <th>701544</th>\n",
       "      <td>96070.06</td>\n",
       "      <td>21.41</td>\n",
       "      <td>56.84</td>\n",
       "    </tr>\n",
       "    <tr>\n",
       "      <th>701545</th>\n",
       "      <td>95230.42</td>\n",
       "      <td>22.53</td>\n",
       "      <td>51.72</td>\n",
       "    </tr>\n",
       "    <tr>\n",
       "      <th>701546</th>\n",
       "      <td>95653.14</td>\n",
       "      <td>23.01</td>\n",
       "      <td>49.78</td>\n",
       "    </tr>\n",
       "    <tr>\n",
       "      <th>701547</th>\n",
       "      <td>95418.48</td>\n",
       "      <td>22.57</td>\n",
       "      <td>51.44</td>\n",
       "    </tr>\n",
       "  </tbody>\n",
       "</table>\n",
       "<p>701548 rows × 3 columns</p>\n",
       "</div>"
      ],
      "text/plain": [
       "        pressure  temperature  humidity\n",
       "0       95270.27        23.46     62.48\n",
       "1       94355.83        23.06     59.46\n",
       "2       95155.81        26.53     44.38\n",
       "3       94679.57        28.34     38.28\n",
       "4       94327.88        26.31     46.37\n",
       "...          ...          ...       ...\n",
       "701543  95562.08        21.99     52.28\n",
       "701544  96070.06        21.41     56.84\n",
       "701545  95230.42        22.53     51.72\n",
       "701546  95653.14        23.01     49.78\n",
       "701547  95418.48        22.57     51.44\n",
       "\n",
       "[701548 rows x 3 columns]"
      ]
     },
     "execution_count": 5,
     "metadata": {},
     "output_type": "execute_result"
    }
   ],
   "source": [
    "data"
   ]
  },
  {
   "cell_type": "code",
   "execution_count": 6,
   "id": "225db05d",
   "metadata": {},
   "outputs": [
    {
     "data": {
      "text/plain": [
       "0         62.48\n",
       "1         59.46\n",
       "2         44.38\n",
       "3         38.28\n",
       "4         46.37\n",
       "          ...  \n",
       "701543    52.28\n",
       "701544    56.84\n",
       "701545    51.72\n",
       "701546    49.78\n",
       "701547    51.44\n",
       "Name: humidity, Length: 701548, dtype: float64"
      ]
     },
     "execution_count": 6,
     "metadata": {},
     "output_type": "execute_result"
    }
   ],
   "source": [
    "y= data[\"humidity\"]\n",
    "y"
   ]
  },
  {
   "cell_type": "code",
   "execution_count": 7,
   "id": "6a187fb3",
   "metadata": {},
   "outputs": [
    {
     "data": {
      "text/html": [
       "<div>\n",
       "<style scoped>\n",
       "    .dataframe tbody tr th:only-of-type {\n",
       "        vertical-align: middle;\n",
       "    }\n",
       "\n",
       "    .dataframe tbody tr th {\n",
       "        vertical-align: top;\n",
       "    }\n",
       "\n",
       "    .dataframe thead th {\n",
       "        text-align: right;\n",
       "    }\n",
       "</style>\n",
       "<table border=\"1\" class=\"dataframe\">\n",
       "  <thead>\n",
       "    <tr style=\"text-align: right;\">\n",
       "      <th></th>\n",
       "      <th>pressure</th>\n",
       "      <th>temperature</th>\n",
       "    </tr>\n",
       "  </thead>\n",
       "  <tbody>\n",
       "    <tr>\n",
       "      <th>0</th>\n",
       "      <td>95270.27</td>\n",
       "      <td>23.46</td>\n",
       "    </tr>\n",
       "    <tr>\n",
       "      <th>1</th>\n",
       "      <td>94355.83</td>\n",
       "      <td>23.06</td>\n",
       "    </tr>\n",
       "    <tr>\n",
       "      <th>2</th>\n",
       "      <td>95155.81</td>\n",
       "      <td>26.53</td>\n",
       "    </tr>\n",
       "    <tr>\n",
       "      <th>3</th>\n",
       "      <td>94679.57</td>\n",
       "      <td>28.34</td>\n",
       "    </tr>\n",
       "    <tr>\n",
       "      <th>4</th>\n",
       "      <td>94327.88</td>\n",
       "      <td>26.31</td>\n",
       "    </tr>\n",
       "    <tr>\n",
       "      <th>...</th>\n",
       "      <td>...</td>\n",
       "      <td>...</td>\n",
       "    </tr>\n",
       "    <tr>\n",
       "      <th>701543</th>\n",
       "      <td>95562.08</td>\n",
       "      <td>21.99</td>\n",
       "    </tr>\n",
       "    <tr>\n",
       "      <th>701544</th>\n",
       "      <td>96070.06</td>\n",
       "      <td>21.41</td>\n",
       "    </tr>\n",
       "    <tr>\n",
       "      <th>701545</th>\n",
       "      <td>95230.42</td>\n",
       "      <td>22.53</td>\n",
       "    </tr>\n",
       "    <tr>\n",
       "      <th>701546</th>\n",
       "      <td>95653.14</td>\n",
       "      <td>23.01</td>\n",
       "    </tr>\n",
       "    <tr>\n",
       "      <th>701547</th>\n",
       "      <td>95418.48</td>\n",
       "      <td>22.57</td>\n",
       "    </tr>\n",
       "  </tbody>\n",
       "</table>\n",
       "<p>701548 rows × 2 columns</p>\n",
       "</div>"
      ],
      "text/plain": [
       "        pressure  temperature\n",
       "0       95270.27        23.46\n",
       "1       94355.83        23.06\n",
       "2       95155.81        26.53\n",
       "3       94679.57        28.34\n",
       "4       94327.88        26.31\n",
       "...          ...          ...\n",
       "701543  95562.08        21.99\n",
       "701544  96070.06        21.41\n",
       "701545  95230.42        22.53\n",
       "701546  95653.14        23.01\n",
       "701547  95418.48        22.57\n",
       "\n",
       "[701548 rows x 2 columns]"
      ]
     },
     "execution_count": 7,
     "metadata": {},
     "output_type": "execute_result"
    }
   ],
   "source": [
    "x= data.drop(\"humidity\", axis= 1)\n",
    "x"
   ]
  },
  {
   "cell_type": "code",
   "execution_count": 8,
   "id": "bee27dc5",
   "metadata": {},
   "outputs": [],
   "source": [
    "def regression(x,y):\n",
    "    from sklearn.model_selection import train_test_split\n",
    "    x_train, x_test, y_train, y_test = train_test_split(x,y, test_size = 1/3, random_state = 0)\n",
    "    \n",
    "    from sklearn.linear_model import LinearRegression\n",
    "    p = LinearRegression()\n",
    "    p.fit(x_train,y_train)\n",
    "    \n",
    "    print(\"Training Score\",p.score(x_train,y_train))\n",
    "    print(\"Test Score\",p.score(x_test,y_test))\n",
    "    \n",
    "    return p"
   ]
  },
  {
   "cell_type": "code",
   "execution_count": 9,
   "id": "ade74e22",
   "metadata": {},
   "outputs": [
    {
     "name": "stdout",
     "output_type": "stream",
     "text": [
      "Training Score 0.2822101577005137\n",
      "Tesr Score 0.28588557544407245\n"
     ]
    }
   ],
   "source": [
    "model= regression(x,y)"
   ]
  },
  {
   "cell_type": "markdown",
   "id": "b21575ee",
   "metadata": {},
   "source": [
    "# Lets use polynomial feature"
   ]
  },
  {
   "cell_type": "code",
   "execution_count": 10,
   "id": "c972914f",
   "metadata": {},
   "outputs": [],
   "source": [
    "from sklearn.preprocessing import PolynomialFeatures     # polynomial featuring use to improve the accuracy\n",
    "\n",
    "k= PolynomialFeatures(degree=2)                          # we can change the degree  2,3,4,5....\n",
    "\n",
    "x1= k.fit_transform(x)"
   ]
  },
  {
   "cell_type": "code",
   "execution_count": 11,
   "id": "ced87b2f",
   "metadata": {},
   "outputs": [
    {
     "name": "stdout",
     "output_type": "stream",
     "text": [
      "Training Score 0.6257167209554264\n",
      "Tesr Score 0.6263692856079834\n"
     ]
    }
   ],
   "source": [
    "model= regression(x1,y)"
   ]
  },
  {
   "cell_type": "code",
   "execution_count": 12,
   "id": "b6f4404d",
   "metadata": {},
   "outputs": [],
   "source": [
    "from sklearn.preprocessing import PolynomialFeatures     # polynomial featuring use to improve the accuracy\n",
    "\n",
    "k= PolynomialFeatures(degree=3)                          # we can change the degree  2,3,4,5....\n",
    "\n",
    "x1= k.fit_transform(x)"
   ]
  },
  {
   "cell_type": "code",
   "execution_count": 13,
   "id": "0b7d9045",
   "metadata": {},
   "outputs": [
    {
     "name": "stdout",
     "output_type": "stream",
     "text": [
      "Training Score 0.6417986691273352\n",
      "Tesr Score 0.6398206168224214\n"
     ]
    }
   ],
   "source": [
    "model= regression(x1,y)"
   ]
  },
  {
   "cell_type": "code",
   "execution_count": null,
   "id": "c8daea7a",
   "metadata": {},
   "outputs": [],
   "source": []
  },
  {
   "cell_type": "code",
   "execution_count": 14,
   "id": "ae693651",
   "metadata": {},
   "outputs": [
    {
     "name": "stdout",
     "output_type": "stream",
     "text": [
      "For degree :  2\n",
      "Training Score 0.6257167209554264\n",
      "Tesr Score 0.6263692856079834\n",
      "\n",
      "For degree :  3\n",
      "Training Score 0.6417986691273352\n",
      "Tesr Score 0.6398206168224214\n",
      "\n"
     ]
    }
   ],
   "source": [
    "for i in range(2,4):\n",
    "    k = PolynomialFeatures(degree=i)\n",
    "    x1 = k.fit_transform(x)\n",
    "    \n",
    "    print(\"For degree : \",i)\n",
    "    model= regression(x1,y)\n",
    "    \n",
    "    print()"
   ]
  },
  {
   "cell_type": "code",
   "execution_count": null,
   "id": "d7b1298d",
   "metadata": {},
   "outputs": [],
   "source": []
  },
  {
   "cell_type": "code",
   "execution_count": null,
   "id": "37be2141",
   "metadata": {},
   "outputs": [],
   "source": []
  },
  {
   "cell_type": "code",
   "execution_count": null,
   "id": "15ac8e20",
   "metadata": {},
   "outputs": [],
   "source": []
  },
  {
   "cell_type": "code",
   "execution_count": null,
   "id": "50d42e42",
   "metadata": {},
   "outputs": [],
   "source": []
  },
  {
   "cell_type": "code",
   "execution_count": null,
   "id": "9c6d03bb",
   "metadata": {},
   "outputs": [],
   "source": []
  },
  {
   "cell_type": "code",
   "execution_count": null,
   "id": "dc9739b8",
   "metadata": {},
   "outputs": [],
   "source": []
  },
  {
   "cell_type": "code",
   "execution_count": null,
   "id": "bb3af87f",
   "metadata": {},
   "outputs": [],
   "source": []
  },
  {
   "cell_type": "code",
   "execution_count": null,
   "id": "03bda5ef",
   "metadata": {},
   "outputs": [],
   "source": []
  }
 ],
 "metadata": {
  "kernelspec": {
   "display_name": "Python 3 (ipykernel)",
   "language": "python",
   "name": "python3"
  },
  "language_info": {
   "codemirror_mode": {
    "name": "ipython",
    "version": 3
   },
   "file_extension": ".py",
   "mimetype": "text/x-python",
   "name": "python",
   "nbconvert_exporter": "python",
   "pygments_lexer": "ipython3",
   "version": "3.9.7"
  }
 },
 "nbformat": 4,
 "nbformat_minor": 5
}
