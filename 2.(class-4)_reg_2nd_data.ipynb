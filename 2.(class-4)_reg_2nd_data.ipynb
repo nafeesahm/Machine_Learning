{
 "cells": [
  {
   "cell_type": "code",
   "execution_count": 1,
   "id": "d9080660",
   "metadata": {},
   "outputs": [],
   "source": [
    "import pandas as pd"
   ]
  },
  {
   "cell_type": "code",
   "execution_count": 2,
   "id": "549ff0a2",
   "metadata": {},
   "outputs": [],
   "source": [
    "data= pd.read_csv(\"reg-2nd-data.csv\")"
   ]
  },
  {
   "cell_type": "code",
   "execution_count": 3,
   "id": "7f2a0fbe",
   "metadata": {},
   "outputs": [
    {
     "data": {
      "text/html": [
       "<div>\n",
       "<style scoped>\n",
       "    .dataframe tbody tr th:only-of-type {\n",
       "        vertical-align: middle;\n",
       "    }\n",
       "\n",
       "    .dataframe tbody tr th {\n",
       "        vertical-align: top;\n",
       "    }\n",
       "\n",
       "    .dataframe thead th {\n",
       "        text-align: right;\n",
       "    }\n",
       "</style>\n",
       "<table border=\"1\" class=\"dataframe\">\n",
       "  <thead>\n",
       "    <tr style=\"text-align: right;\">\n",
       "      <th></th>\n",
       "      <th>f1</th>\n",
       "      <th>f2</th>\n",
       "      <th>Target</th>\n",
       "    </tr>\n",
       "  </thead>\n",
       "  <tbody>\n",
       "    <tr>\n",
       "      <th>0</th>\n",
       "      <td>1.0</td>\n",
       "      <td>5.1</td>\n",
       "      <td>15.1728</td>\n",
       "    </tr>\n",
       "    <tr>\n",
       "      <th>1</th>\n",
       "      <td>2.0</td>\n",
       "      <td>5.4</td>\n",
       "      <td>17.3722</td>\n",
       "    </tr>\n",
       "    <tr>\n",
       "      <th>2</th>\n",
       "      <td>3.0</td>\n",
       "      <td>5.7</td>\n",
       "      <td>19.5716</td>\n",
       "    </tr>\n",
       "    <tr>\n",
       "      <th>3</th>\n",
       "      <td>4.0</td>\n",
       "      <td>6.0</td>\n",
       "      <td>21.7710</td>\n",
       "    </tr>\n",
       "    <tr>\n",
       "      <th>4</th>\n",
       "      <td>5.0</td>\n",
       "      <td>6.3</td>\n",
       "      <td>23.9704</td>\n",
       "    </tr>\n",
       "  </tbody>\n",
       "</table>\n",
       "</div>"
      ],
      "text/plain": [
       "    f1   f2   Target\n",
       "0  1.0  5.1  15.1728\n",
       "1  2.0  5.4  17.3722\n",
       "2  3.0  5.7  19.5716\n",
       "3  4.0  6.0  21.7710\n",
       "4  5.0  6.3  23.9704"
      ]
     },
     "execution_count": 3,
     "metadata": {},
     "output_type": "execute_result"
    }
   ],
   "source": [
    "data.head()"
   ]
  },
  {
   "cell_type": "code",
   "execution_count": 4,
   "id": "20b76786",
   "metadata": {},
   "outputs": [],
   "source": [
    "x1= data[\"f1\"]                               #  split all column and put in variable\n",
    "x2= data[\"f2\"]\n",
    "y = data[\"Target\"]"
   ]
  },
  {
   "cell_type": "code",
   "execution_count": 5,
   "id": "afe69411",
   "metadata": {},
   "outputs": [
    {
     "data": {
      "text/plain": [
       "0    1.0\n",
       "1    2.0\n",
       "2    3.0\n",
       "3    4.0\n",
       "4    5.0\n",
       "Name: f1, dtype: float64"
      ]
     },
     "execution_count": 5,
     "metadata": {},
     "output_type": "execute_result"
    }
   ],
   "source": [
    "x1.head()"
   ]
  },
  {
   "cell_type": "code",
   "execution_count": 6,
   "id": "82ad7965",
   "metadata": {},
   "outputs": [
    {
     "data": {
      "text/plain": [
       "0    5.1\n",
       "1    5.4\n",
       "2    5.7\n",
       "3    6.0\n",
       "4    6.3\n",
       "Name: f2, dtype: float64"
      ]
     },
     "execution_count": 6,
     "metadata": {},
     "output_type": "execute_result"
    }
   ],
   "source": [
    "x2.head()"
   ]
  },
  {
   "cell_type": "code",
   "execution_count": 7,
   "id": "8f398993",
   "metadata": {},
   "outputs": [
    {
     "data": {
      "text/plain": [
       "0    15.1728\n",
       "1    17.3722\n",
       "2    19.5716\n",
       "3    21.7710\n",
       "4    23.9704\n",
       "Name: Target, dtype: float64"
      ]
     },
     "execution_count": 7,
     "metadata": {},
     "output_type": "execute_result"
    }
   ],
   "source": [
    "y.head()"
   ]
  },
  {
   "cell_type": "code",
   "execution_count": 8,
   "id": "8323bd53",
   "metadata": {},
   "outputs": [],
   "source": [
    "import matplotlib.pyplot as plt"
   ]
  },
  {
   "cell_type": "code",
   "execution_count": 9,
   "id": "b7efd6d6",
   "metadata": {},
   "outputs": [
    {
     "data": {
      "text/plain": [
       "[<matplotlib.lines.Line2D at 0x1857e4ab6a0>,\n",
       " <matplotlib.lines.Line2D at 0x1857e4ab580>]"
      ]
     },
     "execution_count": 9,
     "metadata": {},
     "output_type": "execute_result"
    },
    {
     "data": {
      "image/png": "[encoded data removed]",
      "text/plain": [
       "<Figure size 432x288 with 1 Axes>"
      ]
     },
     "metadata": {
      "needs_background": "light"
     },
     "output_type": "display_data"
    }
   ],
   "source": [
    "plt.plot(x1,x2,y) "
   ]
  },
  {
   "cell_type": "code",
   "execution_count": 10,
   "id": "93af8a2a",
   "metadata": {},
   "outputs": [],
   "source": [
    "import numpy as np"
   ]
  },
  {
   "cell_type": "code",
   "execution_count": 11,
   "id": "82d90107",
   "metadata": {},
   "outputs": [],
   "source": [
    "x1= np.array(x1)                   # for converting  x1, x2, y into array\n",
    "x2= np.array(x2)\n",
    "y = np.array(y)"
   ]
  },
  {
   "cell_type": "code",
   "execution_count": 12,
   "id": "bc327b8f",
   "metadata": {},
   "outputs": [
    {
     "data": {
      "text/plain": [
       "(array([ 1.    ,  2.    ,  3.    ,  4.    ,  5.    ,  6.    ,  2.    ,\n",
       "         3.    ,  4.4   ,  5.    ,  3.    ,  5.4   ,  6.    ,  6.3   ,\n",
       "         4.    ,  5.    ,  2.45  ,  5.    ,  6.    ,  2.9   ,  3.4   ,\n",
       "         5.    ,  3.    , 12.    , 11.2   ,  2.9   ,  8.8   ,  8.67  ,\n",
       "         4.56  ,  5.    ,  6.5   ,  4.    ,  7.8   ,  9.8   ,  2.    ,\n",
       "         3.45  ,  5.6   ,  7.8   ,  0.9875,  3.4   ,  5.6   , 23.    ,\n",
       "        10.    ,  9.    , 12.98  , 10.23  ,  2.    ,  3.45  ,  6.7554,\n",
       "        12.    ]),\n",
       " array([ 5.1    ,  5.4    ,  5.7    ,  6.     ,  6.3    ,  6.6    ,\n",
       "         5.4    ,  5.7    ,  6.12   ,  6.3    ,  5.7    ,  6.42   ,\n",
       "         6.6    ,  6.69   ,  6.     ,  6.3    ,  5.535  ,  6.3    ,\n",
       "         6.6    ,  5.67   ,  5.82   ,  6.3    ,  5.7    ,  8.4    ,\n",
       "         8.16   ,  5.67   ,  7.44   ,  7.401  ,  6.168  ,  6.3    ,\n",
       "         6.75   ,  6.     ,  7.14   ,  7.74   ,  5.4    ,  5.835  ,\n",
       "         6.48   ,  7.14   ,  5.09625,  5.82   ,  6.48   , 11.7    ,\n",
       "         7.8    ,  7.5    ,  8.694  ,  7.869  ,  5.4    ,  5.835  ,\n",
       "         6.82662,  8.4    ]),\n",
       " array([15.1728    , 17.3722    , 19.5716    , 21.771     , 23.9704    ,\n",
       "        26.1698    , 17.3722    , 19.5716    , 22.65076   , 23.9704    ,\n",
       "        19.5716    , 24.85016   , 26.1698    , 26.82962   , 21.771     ,\n",
       "        23.9704    , 18.36193   , 23.9704    , 26.1698    , 19.35166   ,\n",
       "        20.45136   , 23.9704    , 19.5716    , 39.3662    , 37.60668   ,\n",
       "        19.35166   , 32.32812   , 32.042198  , 23.002664  , 23.9704    ,\n",
       "        27.2695    , 21.771     , 30.12872   , 34.52752   , 17.3722    ,\n",
       "        20.56133   , 25.29004   , 30.12872   , 15.1453075 , 20.45136   ,\n",
       "        25.29004   , 63.5596    , 34.9674    , 32.768     , 41.521612  ,\n",
       "        35.473262  , 17.3722    , 20.56133   , 27.83122676, 39.3662    ]))"
      ]
     },
     "execution_count": 12,
     "metadata": {},
     "output_type": "execute_result"
    }
   ],
   "source": [
    "x1,x2,y                        #(x1, x2 is feature)  and  y is Target"
   ]
  },
  {
   "cell_type": "code",
   "execution_count": 13,
   "id": "d97c7686",
   "metadata": {},
   "outputs": [],
   "source": [
    "w0= .1\n",
    "w1= .2\n",
    "w2= .3\n",
    "yp= w0 + w1*x1 + w2*x2"
   ]
  },
  {
   "cell_type": "code",
   "execution_count": 14,
   "id": "6c4f1d00",
   "metadata": {},
   "outputs": [
    {
     "data": {
      "text/plain": [
       "array([1.83    , 2.12    , 2.41    , 2.7     , 2.99    , 3.28    ,\n",
       "       2.12    , 2.41    , 2.816   , 2.99    , 2.41    , 3.106   ,\n",
       "       3.28    , 3.367   , 2.7     , 2.99    , 2.2505  , 2.99    ,\n",
       "       3.28    , 2.381   , 2.526   , 2.99    , 2.41    , 5.02    ,\n",
       "       4.788   , 2.381   , 4.092   , 4.0543  , 2.8624  , 2.99    ,\n",
       "       3.425   , 2.7     , 3.802   , 4.382   , 2.12    , 2.5405  ,\n",
       "       3.164   , 3.802   , 1.826375, 2.526   , 3.164   , 8.21    ,\n",
       "       4.44    , 4.15    , 5.3042  , 4.5067  , 2.12    , 2.5405  ,\n",
       "       3.499066, 5.02    ])"
      ]
     },
     "execution_count": 14,
     "metadata": {},
     "output_type": "execute_result"
    }
   ],
   "source": [
    "yp"
   ]
  },
  {
   "cell_type": "code",
   "execution_count": 15,
   "id": "720d8f5a",
   "metadata": {},
   "outputs": [],
   "source": [
    "Loss= 1/len(x1) * sum((yp-y)**2)         # mean square error(MSE) formula"
   ]
  },
  {
   "cell_type": "code",
   "execution_count": 16,
   "id": "e8efe9b8",
   "metadata": {},
   "outputs": [
    {
     "data": {
      "text/plain": [
       "565.0978056002726"
      ]
     },
     "execution_count": 16,
     "metadata": {},
     "output_type": "execute_result"
    }
   ],
   "source": [
    "Loss                            # loss is very high"
   ]
  },
  {
   "cell_type": "code",
   "execution_count": 17,
   "id": "33a111d6",
   "metadata": {},
   "outputs": [
    {
     "data": {
      "text/plain": [
       "[<matplotlib.lines.Line2D at 0x1857e5b1ac0>,\n",
       " <matplotlib.lines.Line2D at 0x1857e5b1af0>]"
      ]
     },
     "execution_count": 17,
     "metadata": {},
     "output_type": "execute_result"
    },
    {
     "data": {
      "image/png": "[encoded data removed]",
      "text/plain": [
       "<Figure size 432x288 with 1 Axes>"
      ]
     },
     "metadata": {
      "needs_background": "light"
     },
     "output_type": "display_data"
    }
   ],
   "source": [
    "plt.plot(x1,x2,y)                   \n",
    "plt.plot(x1,x2,yp)"
   ]
  },
  {
   "cell_type": "markdown",
   "id": "ef7f1be3",
   "metadata": {},
   "source": [
    "# Let's try to reduce the loss"
   ]
  },
  {
   "cell_type": "code",
   "execution_count": 18,
   "id": "fce6c138",
   "metadata": {},
   "outputs": [
    {
     "name": "stdout",
     "output_type": "stream",
     "text": [
      "565.0978056002726\n",
      "370.17099019660526\n",
      "242.58829170730536\n",
      "159.06720857603506\n",
      "104.37704736875745\n",
      "68.55397889994812\n",
      "45.079403563217014\n",
      "29.688409299886686\n",
      "19.590369350584567\n",
      "12.959119301106366\n",
      "8.599466047982308\n",
      "5.729036368866352\n",
      "3.8355704163026307\n",
      "2.583565172517013\n",
      "1.7531991566894647\n",
      "1.2003736695332885\n",
      "0.8305676220353319\n",
      "0.581728957558555\n",
      "0.41307790634818814\n",
      "0.2977780407927486\n",
      "0.21813801467703553\n",
      "0.16246927426983582\n",
      "0.12302749986774034\n",
      "0.09466339403996553\n",
      "0.07393786212619886\n",
      "0.058541299849767595\n",
      "0.046912093623037054\n",
      "0.037985677656738916\n",
      "0.031029202101463624\n",
      "0.025532380842511634\n",
      "0.021135240352290256\n",
      "0.0175801360670217\n",
      "0.01467975281571633\n",
      "0.012295654210197142\n",
      "0.010323811589471439\n",
      "0.008684765631376105\n",
      "0.00731687524239001\n",
      "0.00617163416493366\n",
      "0.005210381016675039\n",
      "0.004401955449491908\n",
      "0.003721002535713996\n",
      "0.003146726035891576\n",
      "0.002661956348951225\n",
      "0.0022524421403618826\n",
      "0.001906303390971479\n",
      "0.001613602830585606\n",
      "0.0013660056471128917\n",
      "0.0011565061173875815\n",
      "0.0009792057866185343\n",
      "0.0008291319506226894\n",
      "0.000702088076823418\n",
      "0.0005945298393267438\n",
      "0.000503461908016274\n",
      "0.0004263517003256487\n",
      "0.00036105709714184814\n",
      "0.0003057657222674552\n",
      "0.00025894384324418035\n",
      "0.00021929330811686364\n",
      "0.0001857152143153985\n",
      "0.00015727923087206238\n",
      "0.00013319767698563958\n",
      "0.00011280360815111874\n",
      "9.553228282957548e-05\n",
      "8.090548328481259e-05\n",
      "6.851824784753129e-05\n",
      "5.802764164334783e-05\n",
      "4.9143251225094235e-05\n",
      "4.161913756218837e-05\n",
      "3.5247023052927456e-05\n",
      "2.985052293694873e-05\n",
      "2.528026075483021e-05\n",
      "2.140973220888741e-05\n",
      "1.8131802649032186e-05\n",
      "1.5355741046678266e-05\n",
      "1.3004708235950958e-05\n",
      "1.1013629817656593e-05\n",
      "9.327394797525e-06\n",
      "7.899330064135223e-06\n",
      "6.68990845932912e-06\n",
      "5.665654667133072e-06\n",
      "4.7982186280378745e-06\n",
      "4.063590825345105e-06\n",
      "3.44143771981615e-06\n",
      "2.9145389354842353e-06\n",
      "2.4683106169082143e-06\n",
      "2.0904017639785235e-06\n",
      "1.7703523704549164e-06\n",
      "1.4993039036319652e-06\n",
      "1.2697541111711902e-06\n",
      "1.0753493683220797e-06\n",
      "9.107088178422637e-07\n",
      "7.712754349488038e-07\n",
      "6.531898949336658e-07\n",
      "5.531837522343029e-07\n",
      "4.684889742788263e-07\n",
      "3.967613260804324e-07\n",
      "3.3601548501976233e-07\n",
      "2.845700898173606e-07\n",
      "2.410012027490203e-07\n",
      "2.041028970125235e-07\n"
     ]
    },
    {
     "data": {
      "image/png": "[encoded data removed]",
      "text/plain": [
       "<Figure size 432x288 with 1 Axes>"
      ]
     },
     "metadata": {
      "needs_background": "light"
     },
     "output_type": "display_data"
    }
   ],
   "source": [
    "w0= .1\n",
    "w1= .2\n",
    "w2= .3\n",
    "lr= .01\n",
    "\n",
    "k=0\n",
    "while k<100:\n",
    "    k=k+1\n",
    "    yp = w0 + w1*x1 + w2*x2\n",
    "    Loss= 1/len(x1) * sum((yp-y)**2)\n",
    "    print(Loss)\n",
    "    \n",
    "    dLossdw0 = 2/len(x1) * sum((yp-y))\n",
    "    dLossdw1 = 2/len(x1) * sum((yp-y) * x1)\n",
    "    dLossdw2 = 2/len(x1) * sum((yp-y) * x2)\n",
    "    \n",
    "    w0 = w0 - lr * dLossdw0\n",
    "    w1 = w1 - lr * dLossdw1\n",
    "    w2 = w2 - lr * dLossdw2\n",
    "    \n",
    "    plt.plot(x1,x2,y)\n",
    "    plt.plot(x1,x2,yp)\n",
    "    \n",
    "\n",
    "\n",
    "\n"
   ]
  },
  {
   "cell_type": "code",
   "execution_count": 20,
   "id": "30102980",
   "metadata": {},
   "outputs": [
    {
     "data": {
      "text/plain": [
       "(0.5024832487911073, 1.42011351788032, 2.597953649561414)"
      ]
     },
     "execution_count": 20,
     "metadata": {},
     "output_type": "execute_result"
    }
   ],
   "source": [
    "w0, w1, w2"
   ]
  },
  {
   "cell_type": "code",
   "execution_count": 21,
   "id": "90260d95",
   "metadata": {},
   "outputs": [],
   "source": [
    "yp = w0 + w1*x1 + w2*x2"
   ]
  },
  {
   "cell_type": "code",
   "execution_count": 22,
   "id": "b5832875",
   "metadata": {},
   "outputs": [
    {
     "data": {
      "text/plain": [
       "array([15.17216038, 17.37165999, 19.5711596 , 21.77065922, 23.97015883,\n",
       "       26.16965844, 17.37165999, 19.5711596 , 22.65045906, 23.97015883,\n",
       "       19.5711596 , 24.84995868, 26.16965844, 26.82950833, 21.77065922,\n",
       "       23.97015883, 18.36143482, 23.97015883, 26.16965844, 19.35120964,\n",
       "       20.45095945, 23.97015883, 19.5711596 , 39.36665612, 37.60705643,\n",
       "       19.35120964, 32.32825736, 32.04232241, 23.002379  , 23.97015883,\n",
       "       27.26940825, 21.77065922, 30.12875775, 34.52775697, 17.37165999,\n",
       "       20.56093443, 25.2898586 , 30.12875775, 15.14466663, 20.45095945,\n",
       "       25.2898586 , 63.56115186, 34.96765689, 32.76815728, 41.52216574,\n",
       "       35.47354181, 17.37165999, 20.56093443, 27.83116045, 39.36665612])"
      ]
     },
     "execution_count": 22,
     "metadata": {},
     "output_type": "execute_result"
    }
   ],
   "source": [
    "yp                    # after reduce the Loss"
   ]
  },
  {
   "cell_type": "code",
   "execution_count": 23,
   "id": "51614e4c",
   "metadata": {},
   "outputs": [
    {
     "data": {
      "text/plain": [
       "array([15.1728    , 17.3722    , 19.5716    , 21.771     , 23.9704    ,\n",
       "       26.1698    , 17.3722    , 19.5716    , 22.65076   , 23.9704    ,\n",
       "       19.5716    , 24.85016   , 26.1698    , 26.82962   , 21.771     ,\n",
       "       23.9704    , 18.36193   , 23.9704    , 26.1698    , 19.35166   ,\n",
       "       20.45136   , 23.9704    , 19.5716    , 39.3662    , 37.60668   ,\n",
       "       19.35166   , 32.32812   , 32.042198  , 23.002664  , 23.9704    ,\n",
       "       27.2695    , 21.771     , 30.12872   , 34.52752   , 17.3722    ,\n",
       "       20.56133   , 25.29004   , 30.12872   , 15.1453075 , 20.45136   ,\n",
       "       25.29004   , 63.5596    , 34.9674    , 32.768     , 41.521612  ,\n",
       "       35.473262  , 17.3722    , 20.56133   , 27.83122676, 39.3662    ])"
      ]
     },
     "execution_count": 23,
     "metadata": {},
     "output_type": "execute_result"
    }
   ],
   "source": [
    "y                      # Target Data"
   ]
  },
  {
   "cell_type": "markdown",
   "id": "3973b38e",
   "metadata": {},
   "source": [
    "# SOLVED............... \n",
    "(Research By-  Nafees Ahmad)"
   ]
  }
 ],
 "metadata": {
  "kernelspec": {
   "display_name": "Python 3 (ipykernel)",
   "language": "python",
   "name": "python3"
  },
  "language_info": {
   "codemirror_mode": {
    "name": "ipython",
    "version": 3
   },
   "file_extension": ".py",
   "mimetype": "text/x-python",
   "name": "python",
   "nbconvert_exporter": "python",
   "pygments_lexer": "ipython3",
   "version": "3.9.7"
  }
 },
 "nbformat": 4,
 "nbformat_minor": 5
}
